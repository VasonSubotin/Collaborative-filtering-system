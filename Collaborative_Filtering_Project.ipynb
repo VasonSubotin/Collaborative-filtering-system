{
 "cells": [
  {
   "cell_type": "markdown",
   "metadata": {
    "collapsed": true
   },
   "source": [
    "# Restaurant recommendation system based on collaborative filtering\n",
    "\n",
    "### In this project, we create a recommendation system based on collaborative filtering. The model will recommend a user for a restaurant based on his and other users past experiences and in all the restaurants that are in the data set.\n",
    "## Collaborative Filtering \n",
    "###The goal of  Collaborative Filtering based (CF) algorithms is to provide item recommendations or prediction based on user's previous likings and opinion of other like-minded users. The opinions of users can be obtained explicitly from the users or by some implicit measures.In the typical CF scenario, there is a list of m users U={u1,u2,..,um} and the list of n items I={I1,I2,..,Im}. which the user has expresses his opinions about. Opinions cab be given by a user as a rating score (in out case this is the stars column). There exists a distinguished user ua belong U for whom the task of CF algorithm is to find an item likeliness that can be of two forms prediction and recommendation. Prediction is numerical value P expressing the predicted likeliness of item for the active user. Recommendation is a list of N items that the active user will like the most. \n",
    "### There two different  CF algorithms user-based and item-based. User-based algorithms utilize entire user-item data to generate prediction. The idea is to find out a set of users (known as neighbours), that have a history of agreeing with the target user. Once such a set is formed, the system uses an algorithm to combine the preferences of neighbors to produce a prediction or top-N recommendations for active user. In contrast, Item based approach looks into the set of items the target user has rated and computes how similar they are to the target item i and then select k most similar items {i1,i2,..,ik}. At the same time their corresponding similarities {s1,s2,..,sik} are also computed. \n"
   ]
  },
  {
   "cell_type": "code",
   "execution_count": 8,
   "metadata": {
    "collapsed": false
   },
   "outputs": [],
   "source": [
    "#Uploading necessary libraries\n",
    "%matplotlib inline\n",
    "from collections import defaultdict \n",
    "import json #data transfering \n",
    "\n",
    "import numpy as np\n",
    "import scipy as sp\n",
    "import matplotlib.pyplot as pl\n",
    "import pandas as pd\n",
    "\n",
    "from matplotlib import rcParams\n",
    "import matplotlib.cm as cm\n",
    "import matplotlib as mpl\n",
    "\n",
    "\n",
    "from scipy.stats.stats import pearsonr\n",
    "\n",
    "from operator import itemgetter\n",
    "import os \n"
   ]
  },
  {
   "cell_type": "markdown",
   "metadata": {
    "collapsed": false
   },
   "source": [
    "### Definding the size of the figures that we need in data analisys as well as color scheem, color style, font type  etc.\n",
    "\n"
   ]
  },
  {
   "cell_type": "code",
   "execution_count": 9,
   "metadata": {
    "collapsed": false
   },
   "outputs": [],
   "source": [
    "#figure characteristics\n",
    "dark2_colors = [(0.10588235294117647, 0.6196078431372549, 0.4666666666666667),\n",
    "                (0.8509803921568627, 0.37254901960784315, 0.00784313725490196),\n",
    "                (0.4588235294117647, 0.4392156862745098, 0.7019607843137254),\n",
    "                (0.9058823529411765, 0.1607843137254902, 0.5411764705882353),\n",
    "                (0.4, 0.6509803921568628, 0.11764705882352941),\n",
    "                (0.9019607843137255, 0.6705882352941176, 0.00784313725490196),\n",
    "                (0.6509803921568628, 0.4627450980392157, 0.11372549019607843)]\n",
    "\n",
    "rcParams['figure.figsize'] = (10, 8)\n",
    "rcParams['figure.dpi'] = 120\n",
    "rcParams['axes.color_cycle'] = dark2_colors\n",
    "rcParams['lines.linewidth'] = 2\n",
    "rcParams['axes.facecolor'] = 'white'\n",
    "rcParams['font.size'] = 14\n",
    "rcParams['patch.edgecolor'] = 'white'\n",
    "rcParams['patch.facecolor'] = dark2_colors[0]\n",
    "rcParams['font.family'] = 'StixGeneral'\n"
   ]
  },
  {
   "cell_type": "markdown",
   "metadata": {
    "collapsed": false
   },
   "source": [
    "### Minimize chartjunk by stripping out unnecesary plot borders and axis ticks. The top/right/left/bottom keywords toggle whether the corresponding plot border is drawn."
   ]
  },
  {
   "cell_type": "code",
   "execution_count": 10,
   "metadata": {
    "collapsed": false
   },
   "outputs": [],
   "source": [
    "def remove_border(axes=None,top=False,right=False,left=True,bottom=True):\n",
    "    ax=axes or pl.gca()\n",
    "    ax.spines['top'].set_visible(top)\n",
    "    ax.spines['right'].set_visible(right)\n",
    "    ax.spines['left'].set_visible(left)\n",
    "    ax.spines['bottom'].set_visible(bottom)\n",
    "    \n",
    "    #turn off all ticks\n",
    "    ax.yaxis.set_ticks_position('none')\n",
    "    ax.xaxis.set_ticks_position('none')\n",
    "    #now re-enable visible \n",
    "    \n",
    "    if top:\n",
    "        ax.xaxis.tick_top()\n",
    "        \n",
    "    if bottom:\n",
    "        ax.xaxis.tick_bottom()\n",
    "    \"\"\"    \n",
    "    if left:\n",
    "        ax.xaxis.tick_left()\n",
    "        \n",
    "    if right:\n",
    "        ax.xaxis.tick_right()\n",
    "    \"\"\"    "
   ]
  },
  {
   "cell_type": "markdown",
   "metadata": {
    "collapsed": false,
    "scrolled": true
   },
   "source": [
    "\n",
    "### 1. Loading the data\n",
    "### Data set contains the costomer id's (user_id) and restaurant id's (business_id) and corresponding scores that were given to each particular restaurant (stars). "
   ]
  },
  {
   "cell_type": "code",
   "execution_count": 11,
   "metadata": {
    "collapsed": false,
    "scrolled": false
   },
   "outputs": [
    {
     "data": {
      "text/html": [
       "<div>\n",
       "<table border=\"1\" class=\"dataframe\">\n",
       "  <thead>\n",
       "    <tr style=\"text-align: right;\">\n",
       "      <th></th>\n",
       "      <th>user_id</th>\n",
       "      <th>business_id</th>\n",
       "      <th>date</th>\n",
       "      <th>review_id</th>\n",
       "      <th>stars</th>\n",
       "      <th>usefulvotes_review</th>\n",
       "      <th>user_name</th>\n",
       "      <th>categories</th>\n",
       "      <th>biz_name</th>\n",
       "      <th>latitude</th>\n",
       "      <th>longitude</th>\n",
       "      <th>business_avg</th>\n",
       "      <th>business_review_count</th>\n",
       "      <th>user_avg</th>\n",
       "      <th>user_review_count</th>\n",
       "    </tr>\n",
       "  </thead>\n",
       "  <tbody>\n",
       "    <tr>\n",
       "      <th>0</th>\n",
       "      <td>rLtl8ZkDX5vH5nAx9C3q5Q</td>\n",
       "      <td>9yKzy9PApeiPPOUJEtnvkg</td>\n",
       "      <td>2011-01-26 00:00:00</td>\n",
       "      <td>fWKvX83p0-ka4JS3dc6E5A</td>\n",
       "      <td>5</td>\n",
       "      <td>5</td>\n",
       "      <td>Jason</td>\n",
       "      <td>[Breakfast &amp; Brunch, Restaurants]</td>\n",
       "      <td>Morning Glory Cafe</td>\n",
       "      <td>33.390792</td>\n",
       "      <td>-112.012504</td>\n",
       "      <td>3.87156</td>\n",
       "      <td>109</td>\n",
       "      <td>3.796954</td>\n",
       "      <td>197</td>\n",
       "    </tr>\n",
       "    <tr>\n",
       "      <th>1</th>\n",
       "      <td>SBbftLzfYYKItOMFwOTIJg</td>\n",
       "      <td>9yKzy9PApeiPPOUJEtnvkg</td>\n",
       "      <td>2008-05-04 00:00:00</td>\n",
       "      <td>DASdFe-g0BgfN9J2tanStg</td>\n",
       "      <td>5</td>\n",
       "      <td>1</td>\n",
       "      <td>Jennifer</td>\n",
       "      <td>[Breakfast &amp; Brunch, Restaurants]</td>\n",
       "      <td>Morning Glory Cafe</td>\n",
       "      <td>33.390792</td>\n",
       "      <td>-112.012504</td>\n",
       "      <td>3.87156</td>\n",
       "      <td>109</td>\n",
       "      <td>3.473684</td>\n",
       "      <td>57</td>\n",
       "    </tr>\n",
       "    <tr>\n",
       "      <th>2</th>\n",
       "      <td>mlBC3pN9GXlUUfQi1qBBZA</td>\n",
       "      <td>9yKzy9PApeiPPOUJEtnvkg</td>\n",
       "      <td>2010-07-05 00:00:00</td>\n",
       "      <td>W8CX2h_hmODWmgSJVbMifw</td>\n",
       "      <td>2</td>\n",
       "      <td>1</td>\n",
       "      <td>Jennifer</td>\n",
       "      <td>[Breakfast &amp; Brunch, Restaurants]</td>\n",
       "      <td>Morning Glory Cafe</td>\n",
       "      <td>33.390792</td>\n",
       "      <td>-112.012504</td>\n",
       "      <td>3.87156</td>\n",
       "      <td>109</td>\n",
       "      <td>3.702381</td>\n",
       "      <td>84</td>\n",
       "    </tr>\n",
       "    <tr>\n",
       "      <th>3</th>\n",
       "      <td>0bNXP9quoJEgyVZu9ipGgQ</td>\n",
       "      <td>9yKzy9PApeiPPOUJEtnvkg</td>\n",
       "      <td>2012-10-10 00:00:00</td>\n",
       "      <td>nYVQiPGeiwr7g5BSX7WDJg</td>\n",
       "      <td>3</td>\n",
       "      <td>9</td>\n",
       "      <td>Aileen</td>\n",
       "      <td>[Breakfast &amp; Brunch, Restaurants]</td>\n",
       "      <td>Morning Glory Cafe</td>\n",
       "      <td>33.390792</td>\n",
       "      <td>-112.012504</td>\n",
       "      <td>3.87156</td>\n",
       "      <td>109</td>\n",
       "      <td>3.180077</td>\n",
       "      <td>261</td>\n",
       "    </tr>\n",
       "    <tr>\n",
       "      <th>4</th>\n",
       "      <td>T7J9ae0wTskrI_Bgwp-4cA</td>\n",
       "      <td>9yKzy9PApeiPPOUJEtnvkg</td>\n",
       "      <td>2009-12-17 00:00:00</td>\n",
       "      <td>grZNCXAgd-OH8daA28R-2A</td>\n",
       "      <td>3</td>\n",
       "      <td>1</td>\n",
       "      <td>Jasmine</td>\n",
       "      <td>[Breakfast &amp; Brunch, Restaurants]</td>\n",
       "      <td>Morning Glory Cafe</td>\n",
       "      <td>33.390792</td>\n",
       "      <td>-112.012504</td>\n",
       "      <td>3.87156</td>\n",
       "      <td>109</td>\n",
       "      <td>3.343284</td>\n",
       "      <td>201</td>\n",
       "    </tr>\n",
       "  </tbody>\n",
       "</table>\n",
       "</div>"
      ],
      "text/plain": [
       "                  user_id             business_id                 date               review_id  stars  usefulvotes_review user_name                         categories            biz_name   latitude   longitude  business_avg  business_review_count  user_avg  user_review_count\n",
       "0  rLtl8ZkDX5vH5nAx9C3q5Q  9yKzy9PApeiPPOUJEtnvkg  2011-01-26 00:00:00  fWKvX83p0-ka4JS3dc6E5A      5                   5     Jason  [Breakfast & Brunch, Restaurants]  Morning Glory Cafe  33.390792 -112.012504       3.87156                    109  3.796954                197\n",
       "1  SBbftLzfYYKItOMFwOTIJg  9yKzy9PApeiPPOUJEtnvkg  2008-05-04 00:00:00  DASdFe-g0BgfN9J2tanStg      5                   1  Jennifer  [Breakfast & Brunch, Restaurants]  Morning Glory Cafe  33.390792 -112.012504       3.87156                    109  3.473684                 57\n",
       "2  mlBC3pN9GXlUUfQi1qBBZA  9yKzy9PApeiPPOUJEtnvkg  2010-07-05 00:00:00  W8CX2h_hmODWmgSJVbMifw      2                   1  Jennifer  [Breakfast & Brunch, Restaurants]  Morning Glory Cafe  33.390792 -112.012504       3.87156                    109  3.702381                 84\n",
       "3  0bNXP9quoJEgyVZu9ipGgQ  9yKzy9PApeiPPOUJEtnvkg  2012-10-10 00:00:00  nYVQiPGeiwr7g5BSX7WDJg      3                   9    Aileen  [Breakfast & Brunch, Restaurants]  Morning Glory Cafe  33.390792 -112.012504       3.87156                    109  3.180077                261\n",
       "4  T7J9ae0wTskrI_Bgwp-4cA  9yKzy9PApeiPPOUJEtnvkg  2009-12-17 00:00:00  grZNCXAgd-OH8daA28R-2A      3                   1   Jasmine  [Breakfast & Brunch, Restaurants]  Morning Glory Cafe  33.390792 -112.012504       3.87156                    109  3.343284                201"
      ]
     },
     "execution_count": 11,
     "metadata": {},
     "output_type": "execute_result"
    }
   ],
   "source": [
    "pd.set_option('display.width',500)\n",
    "pd.set_option('display.max_columns',100)\n",
    "\n",
    "os.chdir(r'E:\\Andrey\\Stanford\\PythonClass')\n",
    "fulldf=pd.read_csv(\"bigdf.csv\")\n",
    "fulldf.head()"
   ]
  },
  {
   "cell_type": "markdown",
   "metadata": {
    "collapsed": false
   },
   "source": [
    "### 2.Exploratory data analysis:\n",
    "####   a. The numebr of users"
   ]
  },
  {
   "cell_type": "code",
   "execution_count": 12,
   "metadata": {
    "collapsed": false
   },
   "outputs": [
    {
     "data": {
      "text/plain": [
       "149319"
      ]
     },
     "execution_count": 12,
     "metadata": {},
     "output_type": "execute_result"
    }
   ],
   "source": [
    "fulldf.user_id.count()"
   ]
  },
  {
   "cell_type": "code",
   "execution_count": 13,
   "metadata": {
    "collapsed": false
   },
   "outputs": [
    {
     "data": {
      "text/plain": [
       "array(['9yKzy9PApeiPPOUJEtnvkg', '8m08a9xJKmANwmeuR-0bPA',\n",
       "       'r3r_bAfa6pZKIhQB82FizQ', ..., 'dUJMmr6TFrHmiokijXiyUg',\n",
       "       'ZRqpSeZEw6sy8r01TdCudQ', 'fgZ2zBACNGcRwyTGCNHWdg'], dtype=object)"
      ]
     },
     "execution_count": 13,
     "metadata": {},
     "output_type": "execute_result"
    }
   ],
   "source": [
    "fulldf.business_id.unique()"
   ]
  },
  {
   "cell_type": "markdown",
   "metadata": {
    "collapsed": false
   },
   "source": [
    "#### b. The number of unique restaurants "
   ]
  },
  {
   "cell_type": "code",
   "execution_count": 14,
   "metadata": {
    "collapsed": false
   },
   "outputs": [
    {
     "data": {
      "text/plain": [
       "4503"
      ]
     },
     "execution_count": 14,
     "metadata": {},
     "output_type": "execute_result"
    }
   ],
   "source": [
    "len(fulldf.business_id.unique ())"
   ]
  },
  {
   "cell_type": "markdown",
   "metadata": {
    "collapsed": false
   },
   "source": [
    "#### c. The average number of reviews per user \n"
   ]
  },
  {
   "cell_type": "code",
   "execution_count": 15,
   "metadata": {
    "collapsed": false
   },
   "outputs": [
    {
     "data": {
      "text/plain": [
       "review_id    4.292133\n",
       "dtype: float64"
      ]
     },
     "execution_count": 15,
     "metadata": {},
     "output_type": "execute_result"
    }
   ],
   "source": [
    "fulldf[['user_id','review_id']].groupby('user_id').count().mean()"
   ]
  },
  {
   "cell_type": "markdown",
   "metadata": {
    "collapsed": false
   },
   "source": [
    "####Summary:"
   ]
  },
  {
   "cell_type": "code",
   "execution_count": 16,
   "metadata": {
    "collapsed": false,
    "scrolled": true
   },
   "outputs": [
    {
     "name": "stdout",
     "output_type": "stream",
     "text": [
      "Number of reviews: 149319\n",
      "Number unique items: 4503\n",
      "Numebr of reviews per item: 33.1598934044\n",
      "Number of reviews per user: 4.29213257064\n"
     ]
    }
   ],
   "source": [
    "print \"Number of reviews:\", fulldf.user_id.count()\n",
    "print \"Number unique items:\", len(fulldf.business_id.unique())\n",
    "print \"Numebr of reviews per item:\",(0.0+fulldf.business_id.count())/len(fulldf.business_id.unique())\n",
    "print \"Number of reviews per user:\",(0.0+fulldf.user_id.count())/len(fulldf.user_id.unique())\n"
   ]
  },
  {
   "cell_type": "markdown",
   "metadata": {
    "collapsed": false
   },
   "source": [
    "\n",
    "\n",
    "\n"
   ]
  },
  {
   "cell_type": "markdown",
   "metadata": {
    "collapsed": false
   },
   "source": [
    "### From our calculation we see that the average number of reviews per item is near 9 times higher than the average number of reviews per user, pointing out that we have more avaliable data for items based approach rather than for user-based one and it would be reasonalbe to go for item-based approach. Let's take a look at distribution of unique user reviews and item (restaurant) reviews:\n",
    "\n"
   ]
  },
  {
   "cell_type": "code",
   "execution_count": 17,
   "metadata": {
    "collapsed": false,
    "scrolled": true
   },
   "outputs": [
    {
     "data": {
      "text/plain": [
       "<function matplotlib.pyplot.show>"
      ]
     },
     "execution_count": 17,
     "metadata": {},
     "output_type": "execute_result"
    },
    {
     "data": {
      "image/png": "[encoded data removed]",
      "text/plain": [
       "<matplotlib.figure.Figure at 0x1c221cf8>"
      ]
     },
     "metadata": {},
     "output_type": "display_data"
    }
   ],
   "source": [
    "#Making a histograms\n",
    "fig=pl.figure()\n",
    "\n",
    "#plot histogram for reviews per user\n",
    "ax=fig.add_subplot(2,1,1)\n",
    "num_reviews_per_user=[numver for numver in fulldf['user_id'].value_counts()]\n",
    "\n",
    "#print num_reivews peruser\n",
    "ax.set_title('Frequency of Restaurant Reviews per User')\n",
    "ax.hist(num_reviews_per_user,bins=100, label='Reviews per user')\n",
    "\n",
    "#scale review count as logarithmic\n",
    "ax.set_xscale('log')\n",
    "\n",
    "#add ticks,lablels,ect.\n",
    "ax.set_xlim(0,1000)\n",
    "ax.set_xticks([1,2,3,4,5,10,50,100,max(num_reviews_per_user),500,1000])\n",
    "ax.set_xticklabels([1,2,3,4,5,10,50,100,max(num_reviews_per_user),500,1000], horizontalalignment='center')\n",
    "ax.set_yscale('linear')\n",
    "\n",
    "maxline = ax.vlines(max(num_reviews_per_user), 1, 10000, colors='red', label='most reviews per user')\n",
    "handles, labels = ax.get_legend_handles_labels()\n",
    "ax.legend(handles, labels)\n",
    "\n",
    "\n",
    "\n",
    "ax=fig.add_subplot(2,1,2)\n",
    "num_reviews_per_user=[numver for numver in fulldf['business_id'].value_counts()]\n",
    "\n",
    "# plot histogram for reviews per user\n",
    "ax.set_title('Frequency of Reviews per Restaurant')\n",
    "ax.hist(num_reviews_per_user,bins=100, label='Reviews per Restaurant')\n",
    "\n",
    "\n",
    "#scale review count as logarithmiic\n",
    "ax.set_xscale('log')\n",
    "\n",
    "##add ticks,lablels,ect\n",
    "ax.set_xlim(1,3000)\n",
    "ax.set_xticks([1,2,3,4,5,10,50,100,max(num_reviews_per_user),500,1000])\n",
    "ax.set_xticklabels([1,2,3,4,5,10,50,100,max(num_reviews_per_user),500,1000], horizontalalignment='center')\n",
    "\n",
    "ax.set_yscale('Linear')\n",
    "ax.set_ylim(1,2000)\n",
    "\n",
    "maxline = ax.vlines(max(num_reviews_per_user), 1, 10000, colors='red', label='most reviews per Restaurant')\n",
    "handles, labels = ax.get_legend_handles_labels()\n",
    "ax.legend(handles, labels)\n",
    "\n",
    "pl.show\n",
    "\n",
    "\n",
    "\n",
    "\n"
   ]
  },
  {
   "cell_type": "markdown",
   "metadata": {
    "collapsed": false
   },
   "source": [
    "### The distribution of reviews per users shows that many of the users gave around  4 reviews in general and that there are more restaurant with higher reviews, supporting our conclussion about low data content for user-user based filtering approach. \n"
   ]
  },
  {
   "cell_type": "code",
   "execution_count": 18,
   "metadata": {
    "collapsed": false
   },
   "outputs": [
    {
     "name": "stdout",
     "output_type": "stream",
     "text": [
      "more users than joints\n"
     ]
    }
   ],
   "source": [
    "# find out if there more  users or more items\n",
    "if len(fulldf['user_id'].drop_duplicates())>len(fulldf['business_id'].drop_duplicates()):\n",
    "    print 'more users than joints'\n",
    "else:\n",
    "    print 'more joints than users'\n",
    "    \n"
   ]
  },
  {
   "cell_type": "markdown",
   "metadata": {
    "collapsed": false
   },
   "source": [
    "###Also there are more unique users than restaurants, so we do have more data on restaurants rather than on users. The following step is to exclude low reviews users and low reviews items from data set to make our future prediction more relaible \n"
   ]
  },
  {
   "cell_type": "code",
   "execution_count": 19,
   "metadata": {
    "collapsed": false
   },
   "outputs": [
    {
     "name": "stdout",
     "output_type": "stream",
     "text": [
      "Averaging  all ratings of resturants: 3.74\n",
      "Averaging ratings across each resturant agregated rating:\n"
     ]
    },
    {
     "data": {
      "text/plain": [
       "3.4612130229428746"
      ]
     },
     "execution_count": 19,
     "metadata": {},
     "output_type": "execute_result"
    }
   ],
   "source": [
    "# supportive calcualtions\n",
    "print \"Averaging  all ratings of resturants:\", round(fulldf.stars.mean(),2)\n",
    "means_by_Join=fulldf[['business_id','stars']].groupby('business_id').mean()\n",
    "means_by_Join1=fulldf[['business_id','stars']].groupby('business_id')\n",
    "print 'Averaging ratings across each resturant agregated rating:'\n",
    "means_by_Join['stars'].mean()\n"
   ]
  },
  {
   "cell_type": "markdown",
   "metadata": {
    "collapsed": false
   },
   "source": [
    "### Following function adds two columns containing average values of business_id count and user_id"
   ]
  },
  {
   "cell_type": "code",
   "execution_count": 20,
   "metadata": {
    "collapsed": false
   },
   "outputs": [],
   "source": [
    "#Lets make two separate chunk of data based on user and on items\n",
    "def recompute_frame(ldf):\n",
    "    #ldf=fulldf.copy()\n",
    "    ldfu=ldf.groupby('user_id')\n",
    "    ldfb=ldf.groupby('business_id')\n",
    "\n",
    "    user_avg=ldfu.stars.mean()\n",
    "    user_review_count=ldfu.review_id.count()\n",
    "\n",
    "    business_avg=ldfb.stars.mean()\n",
    "    business_review_count=ldfb.review_id.count()\n",
    "    \n",
    "    nldf=ldf.copy()\n",
    "    nldf.set_index(['business_id'],inplace=True)\n",
    "    nldf['business_avg']=business_avg\n",
    "    nldf['business_review_count']=business_review_count\n",
    "    nldf.reset_index(inplace=True)\n",
    "\n",
    "\n",
    "\n",
    "    nldf.set_index(['user_id'],inplace=True)\n",
    "    nldf['user_avg']=user_avg\n",
    "    nldf['user_review_count']=user_review_count\n",
    "    nldf.reset_index(inplace=True)\n",
    "    \n",
    "    return nldf"
   ]
  },
  {
   "cell_type": "markdown",
   "metadata": {
    "collapsed": false
   },
   "source": [
    "### To exclude the data containing low reviews we subset only those datathat have  more that 60 users reviews and 150 reviwes for restaurants.  "
   ]
  },
  {
   "cell_type": "code",
   "execution_count": 21,
   "metadata": {
    "collapsed": false
   },
   "outputs": [],
   "source": [
    "copydf=fulldf.copy()\n",
    "# based on the Graph we found that most of the time people give a few reviewes to resturants\n",
    "copydf=recompute_frame(copydf)\n",
    "\n",
    "smalldf=copydf[(copydf.user_review_count>60)&(copydf.business_review_count>150)]\n",
    "smalldf=recompute_frame(smalldf)"
   ]
  },
  {
   "cell_type": "code",
   "execution_count": 22,
   "metadata": {
    "collapsed": false
   },
   "outputs": [
    {
     "name": "stdout",
     "output_type": "stream",
     "text": [
      "Number of unique restaurants: 172\n",
      "Number of unique users: 240\n"
     ]
    }
   ],
   "source": [
    "print \"Number of unique restaurants:\", smalldf.business_id.drop_duplicates().count()\n",
    "print \"Number of unique users:\", smalldf.user_id.drop_duplicates().count()"
   ]
  },
  {
   "cell_type": "code",
   "execution_count": 23,
   "metadata": {
    "collapsed": false
   },
   "outputs": [
    {
     "name": "stdout",
     "output_type": "stream",
     "text": [
      "Number of reviews: 6165\n",
      "Number unique items: 172\n",
      "Numebr of reviews per item: 35.8430232558\n",
      "Number of reviews per user: 25.6875\n"
     ]
    }
   ],
   "source": [
    "print \"Number of reviews:\", smalldf.user_id.count()\n",
    "print \"Number unique items:\", len(smalldf.business_id.unique())\n",
    "print \"Numebr of reviews per item:\",(0.0+smalldf.business_id.count())/len(smalldf.business_id.unique())\n",
    "print \"Number of reviews per user:\",(0.0+smalldf.user_id.count())/len(smalldf.user_id.unique())\n"
   ]
  },
  {
   "cell_type": "markdown",
   "metadata": {
    "collapsed": false
   },
   "source": [
    "###The unique number of users and items shrunk down to 240 and 172 respectively. The average number of items and users became higher. Let's take a look at the new distribution of reviews per items and per user"
   ]
  },
  {
   "cell_type": "code",
   "execution_count": 24,
   "metadata": {
    "collapsed": false,
    "scrolled": true
   },
   "outputs": [
    {
     "data": {
      "text/plain": [
       "<function matplotlib.pyplot.show>"
      ]
     },
     "execution_count": 24,
     "metadata": {},
     "output_type": "execute_result"
    },
    {
     "data": {
      "image/png": "[encoded data removed]",
      "text/plain": [
       "<matplotlib.figure.Figure at 0x1f88a128>"
      ]
     },
     "metadata": {},
     "output_type": "display_data"
    }
   ],
   "source": [
    "#Making a histograms for \n",
    "fig=pl.figure()\n",
    "\n",
    "#plot histogram for reviewa per user\n",
    "ax=fig.add_subplot(2,1,1)\n",
    "num_reviews_per_user=[numver for numver in smalldf['user_id'].value_counts()]\n",
    "\n",
    "#print num_rivewa_per_user\n",
    "ax.set_title('Frequency of Restaurant Reviews per User')\n",
    "ax.hist(num_reviews_per_user,bins=100, label='Reviews per user')\n",
    "\n",
    "#scale review count as logarithmiic\n",
    "ax.set_xscale('linear')\n",
    "\n",
    "#add ticks,lablels,ect\n",
    "ax.set_xlim(0,100)\n",
    "ax.set_ylim(0,30)\n",
    "\n",
    "#ax.set_xticks([0,20,40,50,60,100,max(num_reviews_per_user)])\n",
    "#ax.set_xticklabels([1,2,3,4,5,10,50,100,max(num_reviews_per_user)], horizontalalignment='center')\n",
    "ax.set_yscale('linear')\n",
    "\n",
    "maxline = ax.vlines(max(num_reviews_per_user), 1, 10000, colors='red', label='most reviews per user')\n",
    "handles, labels = ax.get_legend_handles_labels()\n",
    "ax.legend(handles, labels)\n",
    "\n",
    "\n",
    "\n",
    "ax=fig.add_subplot(2,1,2)\n",
    "num_reviews_per_user=[numver for numver in smalldf['business_id'].value_counts()]\n",
    "\n",
    "# plot histogram for reviews per user\n",
    "ax.set_title('Frequency of Reviews per Restaurant  gsiven by users')\n",
    "ax.hist(num_reviews_per_user,bins=100, label='Reviews per Restaurant')\n",
    "\n",
    "\n",
    "#scale review count as logarithmiic\n",
    "ax.set_xscale('linear')\n",
    "\n",
    "##add ticks,lablels,ect\n",
    "ax.set_xlim(1,100)\n",
    "#ax.set_xticks([1,2,3,4,5,10,50,100,max(num_reviews_per_user),])\n",
    "#ax.set_xticklabels([1,2,3,4,5,10,50,100,max(num_reviews_per_user)], horizontalalignment='center')\n",
    "\n",
    "ax.set_yscale('linear')\n",
    "ax.set_ylim(0,25)\n",
    "\n",
    "maxline = ax.vlines(max(num_reviews_per_user), 1, 10000, colors='red', label='Most reviews per Restaurant')\n",
    "handles, labels = ax.get_legend_handles_labels()\n",
    "ax.legend(handles, labels)\n",
    "\n",
    "pl.show"
   ]
  },
  {
   "cell_type": "markdown",
   "metadata": {
    "collapsed": false
   },
   "source": [
    "\n",
    "   "
   ]
  },
  {
   "cell_type": "code",
   "execution_count": 25,
   "metadata": {
    "collapsed": false
   },
   "outputs": [
    {
     "name": "stdout",
     "output_type": "stream",
     "text": [
      "Average User Rating\n"
     ]
    },
    {
     "data": {
      "image/png": "[encoded data removed]",
      "text/plain": [
       "<matplotlib.figure.Figure at 0x1fbe4b70>"
      ]
     },
     "metadata": {},
     "output_type": "display_data"
    },
    {
     "name": "stdout",
     "output_type": "stream",
     "text": [
      "\n",
      "\n",
      "Average Business Rating\n",
      "\n",
      "Overall mean: 3.868\n"
     ]
    },
    {
     "data": {
      "image/png": "[encoded data removed]",
      "text/plain": [
       "<matplotlib.figure.Figure at 0x1c159e48>"
      ]
     },
     "metadata": {},
     "output_type": "display_data"
    }
   ],
   "source": [
    "print 'Average User Rating'\n",
    "plot=pl.hist(smalldf.user_avg)\n",
    "pl.show()\n",
    "\n",
    "print '\\n'\n",
    "\n",
    "print 'Average Business Rating'\n",
    "plot= pl.hist(smalldf.business_avg)\n",
    "pl.show\n",
    "\n",
    "print '\\nOverall mean:', round(smalldf.stars.mean(),3)"
   ]
  },
  {
   "cell_type": "markdown",
   "metadata": {
    "collapsed": false
   },
   "source": [
    "###To clalcuate similarity between items and to select the most smililar items we need to first isolate the users who have rated both of these items and then to apply a  similarity computation technique to determine the similarity for each pair of items. "
   ]
  },
  {
   "cell_type": "code",
   "execution_count": 26,
   "metadata": {
    "collapsed": false
   },
   "outputs": [
    {
     "name": "stdout",
     "output_type": "stream",
     "text": [
      "Mean support is: 6.84679722562\n"
     ]
    }
   ],
   "source": [
    "#Get the resturant 1 and 2 and find out common users who will give reviews to those restuants\n",
    "\n",
    "restaurants=smalldf.business_id.unique()\n",
    "\n",
    "support=[]\n",
    "for i,rest1 in enumerate(restaurants):\n",
    "    for j,rest2 in enumerate(restaurants):\n",
    "        if i<j:\n",
    "            rest1_reviweres=smalldf[smalldf.business_id==rest1].user_id.unique()\n",
    "            rest2_reviweres=smalldf[smalldf.business_id==rest2].user_id.unique()\n",
    "            common_reviweres=set(rest1_reviweres).intersection(rest2_reviweres)\n",
    "            support.append(len(common_reviweres))\n",
    "\n",
    "#what is the number of common users for these two pairs of resturants?\n",
    "print \"Mean support is:\", np.mean(support)\n"
   ]
  },
  {
   "cell_type": "code",
   "execution_count": 27,
   "metadata": {
    "collapsed": false
   },
   "outputs": [
    {
     "data": {
      "image/png": "[encoded data removed]",
      "text/plain": [
       "<matplotlib.figure.Figure at 0x1f0bb5f8>"
      ]
     },
     "metadata": {},
     "output_type": "display_data"
    }
   ],
   "source": [
    "plot=pl.hist(support)\n",
    "pl.show()\n"
   ]
  },
  {
   "cell_type": "markdown",
   "metadata": {
    "collapsed": false
   },
   "source": [
    "### The average number of users rated common resturants across all pairs of restaurants is 6.8. From practical point of view this number is low and even we put so much constrains on the data we still have a little data to build up very reliable collaborative system based on similarity. Nevertheless let's calculate similarity for each pair and make a Database containing all of them.  "
   ]
  },
  {
   "cell_type": "markdown",
   "metadata": {
    "collapsed": false
   },
   "source": [
    "\n",
    "###In this case we will use correlation-based similarity. It's measured by computing the Pearson correlation between two items (in our case business_id):\n"
   ]
  },
  {
   "cell_type": "code",
   "execution_count": 28,
   "metadata": {
    "collapsed": false,
    "scrolled": true
   },
   "outputs": [],
   "source": [
    "\n",
    "def pearsonr_sim(rest1_reviews,rest2_reviews,n_common):\n",
    "    if n_common==0:\n",
    "        rho=0.\n",
    "    else:\n",
    "        diff1=rest1_reviews['stars']-rest1_reviews['user_avg']\n",
    "        diff2=rest2_reviews['stars']-rest2_reviews['user_avg']\n",
    "        rho=pearsonr(diff1,diff2)[0]\n",
    "    return rho\n",
    "\n",
    "def get_rest_rev(restaurant_id,df,set_of_users):\n",
    "    mask=(df.user_id.isin(set_of_users))&(df.business_id==restaurant_id)\n",
    "    reviews=df[mask]\n",
    "    reviews=reviews[reviews.user_id.duplicated()==False]\n",
    "    return reviews\n",
    "    \n",
    "    \n",
    "def callculate_simmliarity(rest1,rest2,df,sim_func):\n",
    "    rest1_reviwers=smalldf[smalldf.business_id==rest1].user_id.unique()\n",
    "    rest2_reviwers=smalldf[smalldf.business_id==rest2].user_id.unique()\n",
    "    common_reviewers=set(rest1_reviwers).intersection(rest2_reviwers)\n",
    "    #rest1_reviws=get_rest_rev(rest1,df,common_reviewers)\n",
    "    #rest2_reviws=get_rest_rev(rest2,df,common_reviewers)\n",
    "    #sim=sim_func(rest1_reviws,rest2_reviws,len(common_reviewers))\n",
    "    \n",
    "    reviews=[get_rest_rev(rest_id,df,common_reviewers) for rest_id in [rest1,rest2]]\n",
    "    n_common=len(common_reviewers)\n",
    "    #print (reviews)\n",
    "    sim=sim_func(reviews[0],reviews[1],n_common)\n",
    "    \n",
    "    similarity=sim if (not np.isnan(sim)) else 0.\n",
    "    return (similarity,n_common)\n",
    "    \n",
    "    \n",
    "        \n"
   ]
  },
  {
   "cell_type": "markdown",
   "metadata": {
    "collapsed": false
   },
   "source": [
    "###Check if the function works:"
   ]
  },
  {
   "cell_type": "code",
   "execution_count": 29,
   "metadata": {
    "collapsed": false
   },
   "outputs": [
    {
     "name": "stdout",
     "output_type": "stream",
     "text": [
      "Correlation between the same items [0]: (1.0, 25)\n",
      "Correlation between different items [0]: (-0.69074364197718463, 4)\n"
     ]
    }
   ],
   "source": [
    "print 'Correlation between the same items [0]:', callculate_simmliarity(smalldf.business_id[0],smalldf.business_id[0],smalldf,pearsonr_sim)  \n",
    "print 'Correlation between different items [0]:', callculate_simmliarity(smalldf.business_id[0],smalldf.business_id[210],smalldf,pearsonr_sim)    "
   ]
  },
  {
   "cell_type": "markdown",
   "metadata": {
    "collapsed": false
   },
   "source": [
    "###Correlation between the same items is 1, as expected. For different items we have different numbers.\n"
   ]
  },
  {
   "cell_type": "markdown",
   "metadata": {
    "collapsed": false
   },
   "source": [
    "###Defining  a class Database and creating the object db (of Database class) containnig simmiliarities of all pairs of restaurants avaliable in database\n"
   ]
  },
  {
   "cell_type": "code",
   "execution_count": 30,
   "metadata": {
    "collapsed": false
   },
   "outputs": [],
   "source": [
    "# biudl up the databae contining all pairs of item-item plus lengs of common user\n",
    "class Database:\n",
    "    def __init__(self,df):\n",
    "        self.database={}\n",
    "        self.df=df\n",
    "        #pairs of keys and position of unique business in dictoanry\n",
    "        self.uniquebizids={v:k for (k,v) in enumerate(df.business_id.unique())}\n",
    "        \n",
    "        keys=self.uniquebizids.keys()\n",
    "        l_keys=len(keys)\n",
    "        self.database_sim=np.zeros([l_keys,l_keys])\n",
    "        self.database_sup=np.zeros([l_keys,l_keys],dtype=np.int)\n",
    "        \n",
    "        \n",
    "             \n",
    "    def populate_by_calculating(self,sim_func):\n",
    "        items=self.uniquebizids.items()\n",
    "        for b1, i1 in items:\n",
    "            for b2, i2 in items:\n",
    "                if i1< i2:\n",
    "                    sim, nsup=callculate_simmliarity(b1,b2,self.df,sim_func)\n",
    "                    self.database_sim[i1][i2]=sim\n",
    "                    self.database_sim[i2][i1]=sim\n",
    "                    self.database_sup[i1][i2]=nsup\n",
    "                    self.database_sup[i2][i1]=nsup\n",
    "                    \n",
    "                elif i1==i2:\n",
    "                    nsup=self.df[self.df.business_id==b1].user_id.count()\n",
    "                    self.database_sim[i1][i1]=1.\n",
    "                    self.database_sim[i1][i1]=nsup\n",
    "                    \n",
    "# The get function gives us the simliriaties and the number of common users that gives rwvies to the resturnas                    \n",
    "    def get(self,b1,b2):\n",
    "        i1=self.uniquebizids[b1] # fins the value associated with this key and store it as index.\n",
    "        i2=self.uniquebizids[b2] # finds it for another resturand and find the valuse of those rows and coluns\n",
    "        \n",
    "        sim=self.database_sim[i1][i2] #findin the simmilarities between two resturans\n",
    "        sup=self.database_sup[i1][i2]\n",
    "        \n",
    "        return (sim,sup)   \n",
    "    \n",
    "    \n",
    "    \n",
    "db=Database(smalldf)\n",
    "db.populate_by_calculating(pearsonr_sim)\n",
    "\n",
    "        \n",
    "        \n",
    "    \n",
    "    \n",
    "    \n",
    "    \n",
    "    \n"
   ]
  },
  {
   "cell_type": "markdown",
   "metadata": {
    "collapsed": false
   },
   "source": [
    "### if the number of reviwers is one then we will get the correlation number one, which is not accurate. We need to get only those items-items simliratires number which more than 1 reviews were given to . For that we intorduce regulatory parameter \"reg\" which compensate the low reviews pairs buy making thier high correlation value low enough to to be in top 5 choices. "
   ]
  },
  {
   "cell_type": "code",
   "execution_count": 31,
   "metadata": {
    "collapsed": false
   },
   "outputs": [],
   "source": [
    "def shrunk_sim(sim,n_common,reg=3.):\n",
    "    ssim=sim*(n_common)/(n_common+reg)\n",
    "    return ssim\n",
    "#db.database_sim.shape\n",
    "#np.sort(db.uniquebizids.keys())"
   ]
  },
  {
   "cell_type": "markdown",
   "metadata": {
    "collapsed": false
   },
   "source": [
    "### Find out the pairs of items with highest similarities in our data base db"
   ]
  },
  {
   "cell_type": "code",
   "execution_count": 32,
   "metadata": {
    "collapsed": false
   },
   "outputs": [],
   "source": [
    "def knearest(restaurant_id, set_of_restaurants,db,k,reg):\n",
    "    neighbours=[]\n",
    "    \n",
    "    for rest in set_of_restaurants:\n",
    "        \n",
    "        if rest !=restaurant_id:\n",
    "            sim,ncom=db.get(restaurant_id,rest)\n",
    "            shrunken=shrunk_sim(sim,ncom,reg)\n",
    "            neighbours.append((rest,shrunken,ncom))\n",
    "            \n",
    "    neighbours.sort(key=itemgetter(1), reverse=True)\n",
    "    \n",
    "    return neighbours[:k]"
   ]
  },
  {
   "cell_type": "markdown",
   "metadata": {
    "collapsed": false
   },
   "source": [
    "###let's test or kenearest function for a particular item "
   ]
  },
  {
   "cell_type": "code",
   "execution_count": 33,
   "metadata": {
    "collapsed": false
   },
   "outputs": [],
   "source": [
    "testbizid=smalldf.business_id.ix[0]\n",
    "testbizid1=smalldf.business_id.ix[210]"
   ]
  },
  {
   "cell_type": "code",
   "execution_count": 34,
   "metadata": {
    "collapsed": false
   },
   "outputs": [
    {
     "data": {
      "text/plain": [
       "[('zp713qNhx8d9KCJJnrw1xA', 0.59871444843387689, 6),\n",
       " ('MuIXnv7Oq7X3-4aEsp9dDA', 0.5714285714285714, 4),\n",
       " ('IuAPYzf3NSyfyXYgT46YVA', 0.52712989094324325, 5),\n",
       " ('z3yFuLVrmH-3RJruPEMYKw', 0.51945655565843596, 6),\n",
       " ('j7XuypdW_w935NhjbvKPQw', 0.51914014693652932, 5),\n",
       " ('mhQCxOiqp03qnhGRTtPduw', 0.49999999999999994, 3),\n",
       " ('zOCdVUKUN3b-obT67Qjyww', 0.4676372353077225, 3),\n",
       " ('mqQwChPNN4o4DhAzaGntIA', 0.45973235723727096, 4),\n",
       " ('KGX7O-_WqOIy9o7u9NOa9A', 0.45139574191708659, 4),\n",
       " ('XWvht_1ZLdK7EHJ3jo4q0g', 0.44283378326675649, 4)]"
      ]
     },
     "execution_count": 34,
     "metadata": {},
     "output_type": "execute_result"
    }
   ],
   "source": [
    "knearest(testbizid,smalldf.business_id.unique(),db,10,3)"
   ]
  },
  {
   "cell_type": "markdown",
   "metadata": {
    "collapsed": false
   },
   "source": [
    "###Make friendly looking interface and for each user_id or business_id provide name of user or name of the respective restaurant.\n",
    "\n"
   ]
  },
  {
   "cell_type": "code",
   "execution_count": 35,
   "metadata": {
    "collapsed": false
   },
   "outputs": [],
   "source": [
    "def bizname_from_id(df,resutrand_id):\n",
    "    tt=df[(df.business_id==resutrand_id)].biz_name.values[0]\n",
    "    return  tt\n",
    "\n",
    "def username_from_id(df,user_id):\n",
    "    tt=df[df['user_id']==user_id].user_name.values[0]\n",
    "    return tt\n",
    "\n"
   ]
  },
  {
   "cell_type": "code",
   "execution_count": 36,
   "metadata": {
    "collapsed": false
   },
   "outputs": [
    {
     "name": "stdout",
     "output_type": "stream",
     "text": [
      "Wildfish Seafood Grille\n"
     ]
    }
   ],
   "source": [
    "print bizname_from_id(smalldf,testbizid1)"
   ]
  },
  {
   "cell_type": "code",
   "execution_count": 37,
   "metadata": {
    "collapsed": false
   },
   "outputs": [
    {
     "data": {
      "text/plain": [
       "[('zp713qNhx8d9KCJJnrw1xA', 0.59871444843387689, 6),\n",
       " ('MuIXnv7Oq7X3-4aEsp9dDA', 0.5714285714285714, 4),\n",
       " ('IuAPYzf3NSyfyXYgT46YVA', 0.52712989094324325, 5),\n",
       " ('z3yFuLVrmH-3RJruPEMYKw', 0.51945655565843596, 6),\n",
       " ('j7XuypdW_w935NhjbvKPQw', 0.51914014693652932, 5),\n",
       " ('mhQCxOiqp03qnhGRTtPduw', 0.49999999999999994, 3),\n",
       " ('zOCdVUKUN3b-obT67Qjyww', 0.4676372353077225, 3)]"
      ]
     },
     "execution_count": 37,
     "metadata": {},
     "output_type": "execute_result"
    }
   ],
   "source": [
    "tops=knearest(testbizid,smalldf.business_id.unique(),db,7,3)\n",
    "tops"
   ]
  },
  {
   "cell_type": "code",
   "execution_count": 38,
   "metadata": {
    "collapsed": false
   },
   "outputs": [
    {
     "name": "stdout",
     "output_type": "stream",
     "text": [
      "For Lobbys Beef Burgers Dogs ,top maches are:\n",
      "0 La Condesa Gourmet Taco Shop sim 0.598714448434 | Support 6\n",
      "1 Citizen Public House sim 0.571428571429 | Support 4\n",
      "2 FnB sim 0.527129890943 | Support 5\n",
      "3 Defalco's Italian Grocery sim 0.519456555658 | Support 6\n",
      "4 Republic Ramen + Noodles sim 0.519140146937 | Support 5\n",
      "5 unPhogettable sim 0.5 | Support 3\n",
      "6 Haus Murphy's sim 0.467637235308 | Support 3\n"
     ]
    },
    {
     "data": {
      "text/html": [
       "<div>\n",
       "<table border=\"1\" class=\"dataframe\">\n",
       "  <thead>\n",
       "    <tr style=\"text-align: right;\">\n",
       "      <th></th>\n",
       "      <th>0</th>\n",
       "      <th>1</th>\n",
       "      <th>2</th>\n",
       "    </tr>\n",
       "  </thead>\n",
       "  <tbody>\n",
       "    <tr>\n",
       "      <th>0</th>\n",
       "      <td>zp713qNhx8d9KCJJnrw1xA</td>\n",
       "      <td>0.598714</td>\n",
       "      <td>6</td>\n",
       "    </tr>\n",
       "    <tr>\n",
       "      <th>1</th>\n",
       "      <td>MuIXnv7Oq7X3-4aEsp9dDA</td>\n",
       "      <td>0.571429</td>\n",
       "      <td>4</td>\n",
       "    </tr>\n",
       "    <tr>\n",
       "      <th>2</th>\n",
       "      <td>IuAPYzf3NSyfyXYgT46YVA</td>\n",
       "      <td>0.527130</td>\n",
       "      <td>5</td>\n",
       "    </tr>\n",
       "    <tr>\n",
       "      <th>3</th>\n",
       "      <td>z3yFuLVrmH-3RJruPEMYKw</td>\n",
       "      <td>0.519457</td>\n",
       "      <td>6</td>\n",
       "    </tr>\n",
       "    <tr>\n",
       "      <th>4</th>\n",
       "      <td>j7XuypdW_w935NhjbvKPQw</td>\n",
       "      <td>0.519140</td>\n",
       "      <td>5</td>\n",
       "    </tr>\n",
       "    <tr>\n",
       "      <th>5</th>\n",
       "      <td>mhQCxOiqp03qnhGRTtPduw</td>\n",
       "      <td>0.500000</td>\n",
       "      <td>3</td>\n",
       "    </tr>\n",
       "    <tr>\n",
       "      <th>6</th>\n",
       "      <td>zOCdVUKUN3b-obT67Qjyww</td>\n",
       "      <td>0.467637</td>\n",
       "      <td>3</td>\n",
       "    </tr>\n",
       "  </tbody>\n",
       "</table>\n",
       "</div>"
      ],
      "text/plain": [
       "                        0         1  2\n",
       "0  zp713qNhx8d9KCJJnrw1xA  0.598714  6\n",
       "1  MuIXnv7Oq7X3-4aEsp9dDA  0.571429  4\n",
       "2  IuAPYzf3NSyfyXYgT46YVA  0.527130  5\n",
       "3  z3yFuLVrmH-3RJruPEMYKw  0.519457  6\n",
       "4  j7XuypdW_w935NhjbvKPQw  0.519140  5\n",
       "5  mhQCxOiqp03qnhGRTtPduw  0.500000  3\n",
       "6  zOCdVUKUN3b-obT67Qjyww  0.467637  3"
      ]
     },
     "execution_count": 38,
     "metadata": {},
     "output_type": "execute_result"
    }
   ],
   "source": [
    "# print everiting in good way \n",
    "print \"For\", bizname_from_id(smalldf,testbizid), \",top maches are:\"\n",
    "for i, (biz_id, sim, nc) in enumerate(tops):\n",
    "    print i, bizname_from_id(smalldf, biz_id), \"sim\",sim, \"| Support\", nc\n",
    "    \n",
    "pd.DataFrame(tops)\n"
   ]
  },
  {
   "cell_type": "markdown",
   "metadata": {
    "collapsed": false
   },
   "source": [
    "###For the restaurant smalldf.business_id.ix[0] the top list of simmilar items, together with respective common reviews given to them (Support),  is:"
   ]
  },
  {
   "cell_type": "code",
   "execution_count": 39,
   "metadata": {
    "collapsed": false,
    "scrolled": true
   },
   "outputs": [
    {
     "data": {
      "text/html": [
       "<div>\n",
       "<table border=\"1\" class=\"dataframe\">\n",
       "  <thead>\n",
       "    <tr style=\"text-align: right;\">\n",
       "      <th></th>\n",
       "      <th>Name</th>\n",
       "      <th>Similarty</th>\n",
       "      <th>Support</th>\n",
       "    </tr>\n",
       "  </thead>\n",
       "  <tbody>\n",
       "    <tr>\n",
       "      <th>0</th>\n",
       "      <td>La Condesa Gourmet Taco Shop</td>\n",
       "      <td>0.598714</td>\n",
       "      <td>6</td>\n",
       "    </tr>\n",
       "    <tr>\n",
       "      <th>1</th>\n",
       "      <td>Citizen Public House</td>\n",
       "      <td>0.571429</td>\n",
       "      <td>4</td>\n",
       "    </tr>\n",
       "    <tr>\n",
       "      <th>2</th>\n",
       "      <td>FnB</td>\n",
       "      <td>0.527130</td>\n",
       "      <td>5</td>\n",
       "    </tr>\n",
       "    <tr>\n",
       "      <th>3</th>\n",
       "      <td>Defalco's Italian Grocery</td>\n",
       "      <td>0.519457</td>\n",
       "      <td>6</td>\n",
       "    </tr>\n",
       "    <tr>\n",
       "      <th>4</th>\n",
       "      <td>Republic Ramen + Noodles</td>\n",
       "      <td>0.519140</td>\n",
       "      <td>5</td>\n",
       "    </tr>\n",
       "    <tr>\n",
       "      <th>5</th>\n",
       "      <td>unPhogettable</td>\n",
       "      <td>0.500000</td>\n",
       "      <td>3</td>\n",
       "    </tr>\n",
       "    <tr>\n",
       "      <th>6</th>\n",
       "      <td>Haus Murphy's</td>\n",
       "      <td>0.467637</td>\n",
       "      <td>3</td>\n",
       "    </tr>\n",
       "  </tbody>\n",
       "</table>\n",
       "</div>"
      ],
      "text/plain": [
       "                           Name  Similarty  Support\n",
       "0  La Condesa Gourmet Taco Shop   0.598714        6\n",
       "1          Citizen Public House   0.571429        4\n",
       "2                           FnB   0.527130        5\n",
       "3     Defalco's Italian Grocery   0.519457        6\n",
       "4      Republic Ramen + Noodles   0.519140        5\n",
       "5                 unPhogettable   0.500000        3\n",
       "6                 Haus Murphy's   0.467637        3"
      ]
     },
     "execution_count": 39,
     "metadata": {},
     "output_type": "execute_result"
    }
   ],
   "source": [
    "tops_with_names=[(bizname_from_id(smalldf, biz_id),sim,nc) for (biz_id,sim,nc) in tops]\n",
    "pd.DataFrame(tops_with_names,columns=['Name','Similarty','Support'])"
   ]
  },
  {
   "cell_type": "markdown",
   "metadata": {
    "collapsed": true
   },
   "source": [
    "##Thus by imputing the target  restaurant we can get similar resturants based on Pearson Coefficient "
   ]
  },
  {
   "cell_type": "markdown",
   "metadata": {
    "collapsed": false
   },
   "source": [
    "###To make a comlete rocomendation engine we need to combine somehow information of the ratings that the user has given in order to know which restaurant the user likes and on top of that find out which are simmilar resturnats other has found. So the next step  in collaborative filtering called Prediction Computation.\n",
    "##Prediction Computation\n",
    "### The goal is to generate the output interface in terms of prediction. Once we isolate a set of most similar items based on similarity measures, the next step is to look into the target users rating and use a technique to obtain predictions for each of the top choice restaurants. \n",
    "### the get_user_top_choices function gets the top 5 choices which user has rated.\n"
   ]
  },
  {
   "cell_type": "code",
   "execution_count": 40,
   "metadata": {
    "collapsed": true
   },
   "outputs": [],
   "source": [
    "def get_user_top_choices(user_id,df,numchices=5):\n",
    "        \n",
    "    return df[df.user_id==user_id][['business_id','stars']].sort(['stars'],ascending=False).head(numchices)\n",
    "    "
   ]
  },
  {
   "cell_type": "code",
   "execution_count": 41,
   "metadata": {
    "collapsed": false
   },
   "outputs": [
    {
     "data": {
      "text/html": [
       "<div>\n",
       "<table border=\"1\" class=\"dataframe\">\n",
       "  <thead>\n",
       "    <tr style=\"text-align: right;\">\n",
       "      <th></th>\n",
       "      <th>business_id</th>\n",
       "      <th>stars</th>\n",
       "    </tr>\n",
       "  </thead>\n",
       "  <tbody>\n",
       "    <tr>\n",
       "      <th>2230</th>\n",
       "      <td>rZbHg4ACfN3iShdsT47WKQ</td>\n",
       "      <td>5</td>\n",
       "    </tr>\n",
       "    <tr>\n",
       "      <th>2190</th>\n",
       "      <td>53YGfwmbW73JhFiemNeyzQ</td>\n",
       "      <td>5</td>\n",
       "    </tr>\n",
       "    <tr>\n",
       "      <th>182</th>\n",
       "      <td>8t80-omyflkywRfu9LPh6g</td>\n",
       "      <td>5</td>\n",
       "    </tr>\n",
       "    <tr>\n",
       "      <th>1962</th>\n",
       "      <td>2OY8xs4aqOt8eTnYokdrww</td>\n",
       "      <td>5</td>\n",
       "    </tr>\n",
       "    <tr>\n",
       "      <th>1912</th>\n",
       "      <td>oXKPSI-RUqOvmuSCh_DEQQ</td>\n",
       "      <td>5</td>\n",
       "    </tr>\n",
       "  </tbody>\n",
       "</table>\n",
       "</div>"
      ],
      "text/plain": [
       "                 business_id  stars\n",
       "2230  rZbHg4ACfN3iShdsT47WKQ      5\n",
       "2190  53YGfwmbW73JhFiemNeyzQ      5\n",
       "182   8t80-omyflkywRfu9LPh6g      5\n",
       "1962  2OY8xs4aqOt8eTnYokdrww      5\n",
       "1912  oXKPSI-RUqOvmuSCh_DEQQ      5"
      ]
     },
     "execution_count": 41,
     "metadata": {},
     "output_type": "execute_result"
    }
   ],
   "source": [
    "user_id1=smalldf.user_id[0]\n",
    "get_user_top_choices(user_id1,smalldf,5)"
   ]
  },
  {
   "cell_type": "code",
   "execution_count": 42,
   "metadata": {
    "collapsed": false
   },
   "outputs": [],
   "source": [
    "def get_top_recos_for_user(userid, df, dbase, n, k, reg):\n",
    "    tops =  get_user_top_choices(userid, df, n)\n",
    "    included = set()\n",
    "    neighbours = []\n",
    "    tops.business_id\n",
    "    \n",
    "    #loop over all top choices\n",
    "    for top_biz in tops.business_id:\n",
    "        # loop over all restaurants in Data Frame\n",
    "        for (jid, sim, ncom) in knearest(top_biz, df.business_id.unique(), dbase, k, reg):\n",
    "        # Find K Nearest neighbours to the restaurant\n",
    "            \n",
    "            mask = (df.business_id == jid) & (df.user_id == userid)\n",
    "            if (jid not in included) & (not any(mask)):\n",
    "                included.add(jid)\n",
    "                rating = df[df.business_id == jid].stars.mean()\n",
    "                # Store this in included, neighbours\n",
    "                neighbours.append((jid, rating))\n",
    "    final_neighbors = sorted(neighbours, key=itemgetter(1), reverse=True)\n",
    "    return final_neighbors\n",
    "\n",
    "\n",
    "    \n",
    "    \n",
    "    "
   ]
  },
  {
   "cell_type": "markdown",
   "metadata": {
    "collapsed": false
   },
   "source": [
    "###Get the top 5 recomendations for 5 top chioces of user [1]."
   ]
  },
  {
   "cell_type": "code",
   "execution_count": 43,
   "metadata": {
    "collapsed": false
   },
   "outputs": [
    {
     "data": {
      "text/plain": [
       "[('KGX7O-_WqOIy9o7u9NOa9A', 4.384615384615385),\n",
       " ('O-Xa9GCFWI65YiBD5Jw_hA', 4.28),\n",
       " ('K8pM6qQdYu5h6buRE1-_sw', 4.276923076923077),\n",
       " ('z3yFuLVrmH-3RJruPEMYKw', 4.232558139534884),\n",
       " ('P5uC-zfGG6yqoQDUyqyAvg', 4.212765957446808),\n",
       " ('cN6aBxe2mQvrQlzk26LyRQ', 4.17948717948718),\n",
       " ('YKOvlBNkF4KpUP9q7x862w', 4.161290322580645),\n",
       " ('dcd3C1gWv-vVdQ9XYV8Ubw', 4.113636363636363),\n",
       " ('c1yGkETheht_1vjda7G5sA', 4.0),\n",
       " ('YQvg0JCGRFUkb6reMMf3Iw', 3.9767441860465116),\n",
       " ('R8VwdLyvsp9iybNqRvm94g', 3.9183673469387754),\n",
       " ('FV0BkoGOd3Yu_eJnXY15ZA', 3.9069767441860463),\n",
       " ('SMpL3z4FLF07bRA6-y22JQ', 3.875),\n",
       " ('9YUe5J_cPCBo_mL7-z9HCQ', 3.875),\n",
       " ('qjmCVYkwP-HDa35jwYucbQ', 3.8181818181818183),\n",
       " ('24V8QQWO6VaVggHdxjQQ_A', 3.793103448275862),\n",
       " ('LzNJLEIo4gh-X_rmDkNkNg', 3.772727272727273),\n",
       " ('e8FMAuTswDueAlLsNyLhcA', 3.6774193548387095),\n",
       " ('byhwHi0lhYdyY5kSpuqoaQ', 3.619047619047619),\n",
       " ('gUt-pPUpOVVhaCFC8-E4yQ', 3.588235294117647),\n",
       " ('tZXPhvufHhfejGrRp554Lg', 3.56),\n",
       " ('MXOdsPTLQPsQK9hUq01DWg', 3.4583333333333335)]"
      ]
     },
     "execution_count": 43,
     "metadata": {},
     "output_type": "execute_result"
    }
   ],
   "source": [
    "testuserid=smalldf.user_id[2]\n",
    "get_top_recos_for_user(testuserid,smalldf,db,5,5,3)"
   ]
  },
  {
   "cell_type": "markdown",
   "metadata": {
    "collapsed": false
   },
   "source": [
    "###Making the results more user friendly and providing the outcome in terms of bunisess name "
   ]
  },
  {
   "cell_type": "code",
   "execution_count": 44,
   "metadata": {
    "collapsed": false,
    "scrolled": true
   },
   "outputs": [
    {
     "name": "stdout",
     "output_type": "stream",
     "text": [
      "For user Jennifer the top recommendations are:\n",
      "Elements |Average rating| 4.7\n",
      "Sonora Mesquite Grill |Average rating| 4.38\n",
      "Rokerij |Average rating| 4.38\n",
      "Mastro's City Hall Steakhouse |Average rating| 4.28\n",
      "Lo-Lo's Chicken & Waffles |Average rating| 4.28\n",
      "The Mission |Average rating| 4.16\n",
      "Tuck Shop |Average rating| 3.97\n",
      "Carolina's Mexican Food |Average rating| 3.91\n",
      "Canteen Modern Tequila Bar |Average rating| 3.88\n",
      "Mi Patio Mexican Restaurant |Average rating| 3.83\n",
      "Four Peaks Brewery |Average rating| 3.77\n",
      "True Food Kitchen |Average rating| 3.76\n",
      "Lee's Sandwiches |Average rating| 3.72\n",
      "Daily Dose |Average rating| 3.68\n",
      "Pita Jungle |Average rating| 3.64\n",
      "America's Taco Shop |Average rating| 3.64\n",
      "Brio Tuscan Grille |Average rating| 3.62\n",
      "Carlsbad Tavern |Average rating| 3.59\n",
      "Scratch Pastries & Bistro |Average rating| 3.56\n",
      "Carly's Bistro |Average rating| 3.5\n",
      "Arcadia Tavern |Average rating| 3.46\n",
      "Mellow Mushroom |Average rating| 3.31\n",
      "Teharu Sushi |Average rating| 2.87\n"
     ]
    }
   ],
   "source": [
    "\n",
    "print \"For user\", username_from_id(smalldf,testuserid), \"the top recommendations are:\"\n",
    "toprecos=get_top_recos_for_user(testuserid,smalldf,db,n=5,k=5,reg=.3)\n",
    "for biz_id, biz_avg in toprecos:\n",
    "    print bizname_from_id(smalldf,biz_id), \"|Average rating|\", round(biz_avg,2)"
   ]
  },
  {
   "cell_type": "markdown",
   "metadata": {
    "collapsed": false
   },
   "source": [
    "### Conclusions:We made the Collaborative filtering engine that provides recomendations for top 5 choices made by the target user by calculating the similarity for each of the favorite resturant."
   ]
  },
  {
   "cell_type": "code",
   "execution_count": 57,
   "metadata": {
    "collapsed": false
   },
   "outputs": [],
   "source": []
  },
  {
   "cell_type": "code",
   "execution_count": 59,
   "metadata": {
    "collapsed": false
   },
   "outputs": [],
   "source": []
  },
  {
   "cell_type": "code",
   "execution_count": 60,
   "metadata": {
    "collapsed": false
   },
   "outputs": [
    {
     "name": "stdout",
     "output_type": "stream",
     "text": [
      "User Avearge 3.75 for Jennifer\n",
      "Predicted ratings for tops choices calculated earlier:\n",
      "Elements | 4.7 | Average 4.7\n",
      "Sonora Mesquite Grill | 4.29 | Average 4.38\n",
      "Rokerij | 4.38 | Average 4.38\n",
      "Mastro's City Hall Steakhouse | 4.1 | Average 4.28\n",
      "Lo-Lo's Chicken & Waffles | 4.27 | Average 4.28\n",
      "The Mission | 4.22 | Average 4.16\n",
      "Tuck Shop | 4.01 | Average 3.97\n",
      "Carolina's Mexican Food | 3.68 | Average 3.91\n",
      "Canteen Modern Tequila Bar | 3.9 | Average 3.88\n",
      "Mi Patio Mexican Restaurant | 3.78 | Average 3.83\n",
      "Four Peaks Brewery | 3.91 | Average 3.77\n",
      "True Food Kitchen | 3.76 | Average 3.76\n",
      "Lee's Sandwiches | 3.72 | Average 3.72\n",
      "Daily Dose | 3.46 | Average 3.68\n",
      "Pita Jungle | 3.64 | Average 3.64\n",
      "America's Taco Shop | 3.69 | Average 3.64\n",
      "Brio Tuscan Grille | 3.58 | Average 3.62\n",
      "Carlsbad Tavern | 3.54 | Average 3.59\n",
      "Scratch Pastries & Bistro | 2.54 | Average 3.56\n",
      "Carly's Bistro | 3.54 | Average 3.5\n",
      "Arcadia Tavern | 3.46 | Average 3.46\n",
      "Mellow Mushroom | 3.31 | Average 3.31\n",
      "Teharu Sushi | 2.87 | Average 2.87\n"
     ]
    }
   ],
   "source": []
  },
  {
   "cell_type": "code",
   "execution_count": 61,
   "metadata": {
    "collapsed": true
   },
   "outputs": [],
   "source": [
    "     "
   ]
  },
  {
   "cell_type": "code",
   "execution_count": 62,
   "metadata": {
    "collapsed": false
   },
   "outputs": [
    {
     "name": "stdout",
     "output_type": "stream",
     "text": [
      "for user Jennifer avg 3.75\n",
      "===============================================\n",
      "RA Sushi Bar Restaurant\n",
      "Predicted Rating: 3.03571428571\n",
      "Actual User Rating 5 \n",
      "Avg Rating 3.03571428571\n",
      "===============================================\n",
      "Blanco\n",
      "Predicted Rating: 3.40785825337\n",
      "Actual User Rating 5 \n",
      "Avg Rating 3.39285714286\n",
      "===============================================\n",
      "Scramble\n",
      "Predicted Rating: 3.79114819979\n",
      "Actual User Rating 5 \n",
      "Avg Rating 3.80487804878\n",
      "===============================================\n",
      "Liberty Market\n",
      "Predicted Rating: 3.98947837758\n",
      "Actual User Rating 4 \n",
      "Avg Rating 3.97142857143\n",
      "===============================================\n",
      "Joe's Real BBQ\n",
      "Predicted Rating: 3.84134369407\n",
      "Actual User Rating 4 \n",
      "Avg Rating 3.81578947368\n"
     ]
    }
   ],
   "source": []
  },
  {
   "cell_type": "code",
   "execution_count": 63,
   "metadata": {
    "collapsed": false,
    "scrolled": false
   },
   "outputs": [],
   "source": []
  },
  {
   "cell_type": "code",
   "execution_count": null,
   "metadata": {
    "collapsed": false
   },
   "outputs": [],
   "source": []
  },
  {
   "cell_type": "code",
   "execution_count": 53,
   "metadata": {
    "collapsed": false
   },
   "outputs": [
    {
     "data": {
      "text/plain": [
       "array([ 3.95302154,  3.78571085,  4.20605412, ...,  4.35397774,\n",
       "        3.22683959,  3.66227205])"
      ]
     },
     "execution_count": 53,
     "metadata": {},
     "output_type": "execute_result"
    }
   ],
   "source": []
  },
  {
   "cell_type": "code",
   "execution_count": 54,
   "metadata": {
    "collapsed": false
   },
   "outputs": [],
   "source": []
  },
  {
   "cell_type": "code",
   "execution_count": 55,
   "metadata": {
    "collapsed": false
   },
   "outputs": [],
   "source": []
  },
  {
   "cell_type": "code",
   "execution_count": 56,
   "metadata": {
    "collapsed": false
   },
   "outputs": [
    {
     "ename": "NameError",
     "evalue": "name 'predict' is not defined",
     "output_type": "error",
     "traceback": [
      "\u001b[1;31m---------------------------------------------------------------------------\u001b[0m",
      "\u001b[1;31mNameError\u001b[0m                                 Traceback (most recent call last)",
      "\u001b[1;32m<ipython-input-56-d2d5cea64ee7>\u001b[0m in \u001b[0;36m<module>\u001b[1;34m()\u001b[0m\n\u001b[1;32m----> 1\u001b[1;33m \u001b[0mactual\u001b[0m\u001b[1;33m=\u001b[0m\u001b[0mpredict\u001b[0m\u001b[1;33m[\u001b[0m\u001b[1;34m\"stars\"\u001b[0m\u001b[1;33m]\u001b[0m\u001b[1;33m\u001b[0m\u001b[0m\n\u001b[0m\u001b[0;32m      2\u001b[0m \u001b[0mcompare_results\u001b[0m\u001b[1;33m(\u001b[0m\u001b[0mactual\u001b[0m\u001b[1;33m,\u001b[0m\u001b[0mpredictdf\u001b[0m\u001b[1;33m[\u001b[0m\u001b[1;34m'predict_3_3'\u001b[0m\u001b[1;33m]\u001b[0m\u001b[1;33m,\u001b[0m\u001b[0mtitle\u001b[0m\u001b[1;33m=\u001b[0m\u001b[1;34m'k=3 and reg=3'\u001b[0m\u001b[1;33m)\u001b[0m\u001b[1;33m\u001b[0m\u001b[0m\n\u001b[0;32m      3\u001b[0m \u001b[0mcompare_results\u001b[0m\u001b[1;33m(\u001b[0m\u001b[0mactual\u001b[0m\u001b[1;33m,\u001b[0m\u001b[0mpredictdf\u001b[0m\u001b[1;33m[\u001b[0m\u001b[1;34m'predict_3_15'\u001b[0m\u001b[1;33m]\u001b[0m\u001b[1;33m,\u001b[0m\u001b[0mtitle\u001b[0m\u001b[1;33m=\u001b[0m\u001b[1;34m'k=3 and reg=15'\u001b[0m\u001b[1;33m)\u001b[0m\u001b[1;33m\u001b[0m\u001b[0m\n\u001b[0;32m      4\u001b[0m \u001b[0mcompare_results\u001b[0m\u001b[1;33m(\u001b[0m\u001b[0mactual\u001b[0m\u001b[1;33m,\u001b[0m\u001b[0mpredictdf\u001b[0m\u001b[1;33m[\u001b[0m\u001b[1;34m'predict_10_3'\u001b[0m\u001b[1;33m]\u001b[0m\u001b[1;33m,\u001b[0m\u001b[0mtitle\u001b[0m\u001b[1;33m=\u001b[0m\u001b[1;34m'k=10 and reg=3'\u001b[0m\u001b[1;33m)\u001b[0m\u001b[1;33m\u001b[0m\u001b[0m\n\u001b[0;32m      5\u001b[0m \u001b[0mcompare_results\u001b[0m\u001b[1;33m(\u001b[0m\u001b[0mactual\u001b[0m\u001b[1;33m,\u001b[0m\u001b[0mpredictdf\u001b[0m\u001b[1;33m[\u001b[0m\u001b[1;34m'predict_10_15'\u001b[0m\u001b[1;33m]\u001b[0m\u001b[1;33m,\u001b[0m\u001b[0mtitle\u001b[0m\u001b[1;33m=\u001b[0m\u001b[1;34m'k=10 and reg=15'\u001b[0m\u001b[1;33m)\u001b[0m\u001b[1;33m\u001b[0m\u001b[0m\n",
      "\u001b[1;31mNameError\u001b[0m: name 'predict' is not defined"
     ]
    }
   ],
   "source": []
  },
  {
   "cell_type": "code",
   "execution_count": null,
   "metadata": {
    "collapsed": false
   },
   "outputs": [],
   "source": []
  },
  {
   "cell_type": "code",
   "execution_count": null,
   "metadata": {
    "collapsed": false
   },
   "outputs": [],
   "source": []
  },
  {
   "cell_type": "code",
   "execution_count": null,
   "metadata": {
    "collapsed": false
   },
   "outputs": [],
   "source": []
  },
  {
   "cell_type": "code",
   "execution_count": null,
   "metadata": {
    "collapsed": true
   },
   "outputs": [],
   "source": []
  }
 ],
 "metadata": {
  "kernelspec": {
   "display_name": "Python 2",
   "language": "python",
   "name": "python2"
  },
  "language_info": {
   "codemirror_mode": {
    "name": "ipython",
    "version": 2
   },
   "file_extension": ".py",
   "mimetype": "text/x-python",
   "name": "python",
   "nbconvert_exporter": "python",
   "pygments_lexer": "ipython2",
   "version": "2.7.10"
  }
 },
 "nbformat": 4,
 "nbformat_minor": 0
}
